{
 "cells": [
  {
   "cell_type": "code",
   "execution_count": 4,
   "id": "ae225d3c-6508-4c20-b1b0-de4be05bba97",
   "metadata": {},
   "outputs": [],
   "source": [
    "import pandas as pd"
   ]
  },
  {
   "cell_type": "code",
   "execution_count": 7,
   "id": "31e7451f-4a0e-4f4d-a888-0daafe3782b4",
   "metadata": {},
   "outputs": [],
   "source": [
    "df = pd.read_csv(\"Product_Return_Analysis.csv\")"
   ]
  },
  {
   "cell_type": "code",
   "execution_count": 9,
   "id": "bc28156c-9ba9-45fb-aa9b-4312bc12c700",
   "metadata": {},
   "outputs": [
    {
     "name": "stdout",
     "output_type": "stream",
     "text": [
      "<class 'pandas.core.frame.DataFrame'>\n",
      "RangeIndex: 10000 entries, 0 to 9999\n",
      "Data columns (total 20 columns):\n",
      " #   Column            Non-Null Count  Dtype  \n",
      "---  ------            --------------  -----  \n",
      " 0   Order_ID          10000 non-null  object \n",
      " 1   Product_ID        10000 non-null  object \n",
      " 2   User_ID           10000 non-null  object \n",
      " 3   Order_Date        10000 non-null  object \n",
      " 4   Return_Date       5052 non-null   object \n",
      " 5   Product_Category  10000 non-null  object \n",
      " 6   Product_Price     10000 non-null  float64\n",
      " 7   Order_Quantity    10000 non-null  int64  \n",
      " 8   Return_Reason     5052 non-null   object \n",
      " 9   Return_Status     10000 non-null  object \n",
      " 10  Days_to_Return    5052 non-null   float64\n",
      " 11  User_Age          10000 non-null  int64  \n",
      " 12  User_Gender       10000 non-null  object \n",
      " 13  User_Location     10000 non-null  object \n",
      " 14  Payment_Method    10000 non-null  object \n",
      " 15  Shipping_Method   10000 non-null  object \n",
      " 16  Discount_Applied  10000 non-null  float64\n",
      " 17  Brand             10000 non-null  object \n",
      " 18  Product_Name      10000 non-null  object \n",
      " 19  Region            10000 non-null  object \n",
      "dtypes: float64(3), int64(2), object(15)\n",
      "memory usage: 1.5+ MB\n"
     ]
    },
    {
     "data": {
      "text/plain": [
       "Order_ID               0\n",
       "Product_ID             0\n",
       "User_ID                0\n",
       "Order_Date             0\n",
       "Return_Date         4948\n",
       "Product_Category       0\n",
       "Product_Price          0\n",
       "Order_Quantity         0\n",
       "Return_Reason       4948\n",
       "Return_Status          0\n",
       "Days_to_Return      4948\n",
       "User_Age               0\n",
       "User_Gender            0\n",
       "User_Location          0\n",
       "Payment_Method         0\n",
       "Shipping_Method        0\n",
       "Discount_Applied       0\n",
       "Brand                  0\n",
       "Product_Name           0\n",
       "Region                 0\n",
       "dtype: int64"
      ]
     },
     "execution_count": 9,
     "metadata": {},
     "output_type": "execute_result"
    }
   ],
   "source": [
    "# Basi cleaning \n",
    "df.info()\n",
    "df.isnull().sum()"
   ]
  },
  {
   "cell_type": "code",
   "execution_count": 10,
   "id": "817c11e4-de80-4fb0-afa1-a11ab8eb0181",
   "metadata": {},
   "outputs": [],
   "source": [
    "df.to_csv(\"Cleaned_Product_Return_Data.csv\", index=False)\n"
   ]
  },
  {
   "cell_type": "code",
   "execution_count": null,
   "id": "de5a807f-59f8-487f-bba3-ce0191e6b9ed",
   "metadata": {},
   "outputs": [],
   "source": []
  }
 ],
 "metadata": {
  "kernelspec": {
   "display_name": "Python 3 (ipykernel)",
   "language": "python",
   "name": "python3"
  },
  "language_info": {
   "codemirror_mode": {
    "name": "ipython",
    "version": 3
   },
   "file_extension": ".py",
   "mimetype": "text/x-python",
   "name": "python",
   "nbconvert_exporter": "python",
   "pygments_lexer": "ipython3",
   "version": "3.13.5"
  }
 },
 "nbformat": 4,
 "nbformat_minor": 5
}
